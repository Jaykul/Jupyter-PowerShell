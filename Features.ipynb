{
 "cells": [
  {
   "cell_type": "markdown",
   "metadata": {
    "slideshow": {
     "slide_type": "slide"
    }
   },
   "source": [
    "# PowerShell Kernel\n",
    "\n",
    "The PowerShell kernel is working great on Windows or Linux, and you can use it to produce documentation of your troubleshooting, researching, and even your regular processes, to create visual reports and more.\n",
    "\n",
    "However, there are a lot of features that aren't finished, and a lot of ideas I'd like feedback on. \n",
    "\n",
    "This notebook is a demonstration of features, ways you can use the kernel, and tips and tricks -- but it's also documents the problems in the current version of the kernel and jupyter, and poses questions I'd love feedback on.\n",
    "\n",
    "### Let's start with the basics: \n",
    "\n",
    "It's PowerShell. You can run commands, use variables and pipelines and the text output is just displayed the way you'd expect it to be:"
   ]
  },
  {
   "cell_type": "code",
   "execution_count": 2,
   "metadata": {
    "slideshow": {
     "slide_type": "slide"
    }
   },
   "outputs": [
    {
     "data": {
      "text/plain": [
       "Directory: /home/jovyan/work\n",
       "\n",
       "\n",
       "Mode                LastWriteTime         Length Name                                                                   \n",
       "----                -------------         ------ ----                                                                   \n",
       "--r---          4/21/18  11:50 PM          41999 LiterateDevOps-Copy1.ipynb                                             \n",
       "--r---          4/21/18  11:27 PM          42137 LiterateDevOps.ipynb                                                   \n",
       "--r---          4/20/18   6:34 AM           1546 Dockerfile                                                             \n",
       "--r---          4/20/18   4:19 AM           2974 build.ps1                                                              \n",
       "--r---           4/6/18   3:20 AM           4354 LiterateDevOps.md                                                      \n",
       "--r---           4/6/18   3:20 AM         170560 ReadMe.ipynb                                                           \n",
       "--r---           4/6/18   3:09 AM          12423 nteract - plotly.ipynb                                                 \n",
       "--r---           3/4/18   2:39 AM           2302 ReadMe.md                                                              \n",
       "--r---          2/20/18   6:44 AM           4682 jupyter-powershell.nuspec                                              \n",
       "--r---           8/4/17   3:19 AM           8712 Release.ipynb                                                          \n",
       "--r---          6/24/17   7:07 AM           1140 LICENSE.md"
      ]
     },
     "execution_count": 2,
     "metadata": {},
     "output_type": "execute_result"
    }
   ],
   "source": [
    "$Files = Get-ChildItem -File\n",
    "$Files | Sort-Object LastWriteTime -Descending"
   ]
  },
  {
   "cell_type": "markdown",
   "metadata": {},
   "source": [
    "## `Write-Jupyter`\n",
    "\n",
    "The PowerShell kernel also includes command that directly outputs HTML, markdown, javascript, images, etc. into the Jupyter document.  For example, we could render that ReadMe inline:"
   ]
  },
  {
   "cell_type": "code",
   "execution_count": 1,
   "metadata": {},
   "outputs": [
    {
     "data": {
      "text/markdown": [
       "# A [Jupyter](https://jupyter.org/) Kernel for [PowerShell](https://github.com/PowerShell/PowerShell)\n",
       "\n",
       "This kernel is being written in C#, and in the process, I've taken some messaging code from the [iCSharp kernel](https://github.com/zabirauf/icsharp) and made a generic library for .Net with a re-usable core for anyone who needs to create [Jupyter](https://jupyter.org/) kernels in .Net languages -- so feel free to borrow that if you like (it's under the Apache license).\n",
       "\n",
       "## Install\n",
       "\n",
       "I am finally doing a preliminary release: you can download from the releases link, unzip it somewhere, and run the `Install.ps1` script. Note that if you run this on Linux or OS X you should expect to see only \"PowerShell (Core)\" but on Windows you'll see both -- but only the \"PowerShell (Full)\" will actually work unless you have PowerShell Core installed in your PATH and working.\n",
       "\n",
       "## Current Status\n",
       "\n",
       "At this point, I'm only handling two messages:\n",
       "\n",
       "* KernelInfo request\n",
       "* Execute request\n",
       "\n",
       "The PowerShell kernel is _working_, and returning text output _and errors_ as on the console (see examples below).\n",
       "\n",
       "## Features\n",
       "\n",
       "Apart from the built-in Jupyter features, I'm going to add some output enhancements so you can hook into widgets, etc. However, there's none of that yet, except that:\n",
       "\n",
       "* If you output HTML, it's rendered. I'm currently detecting this in the most simplistic fashion: by testing if the output starts with \"<\" and ends with \">\". That probably needs work, but it's good enough for now.\n",
       "* When a command outputs objects, you get the text rendering, but the actual objects are also returned as application/json data.\n",
       "\n",
       "## PowerShell Core\n",
       "\n",
       "In order to get cross-platform support, this kernel is based on [PowerShell Core](https://github.com/PowerShell/PowerShell).\n",
       "\n",
       "To build it yourself --or to run the \"PowerShell (Core)\" kernel-- you need [dotnet core 2](https://www.microsoft.com/net/core).  You can build it by running `dotnet restore; dotnet build` from the root. If you want to build it in Visual Studio, you need VS 2017 version 15.3 or higher.\n",
       "\n",
       "## Examples\n",
       "\n",
       "I have [a version of this document with examples](https://github.com/Jaykul/Jupyter-PowerShell/blob/master/ReadMe.ipynb) in it as a Jupyter Notebook, which mostly works, in read-only mode, on github...\n"
      ]
     },
     "metadata": {},
     "output_type": "display_data"
    }
   ],
   "source": [
    "Get-Content ReadMe.md | Out-String | Write-Jupyter -MimeType markdown"
   ]
  },
  {
   "cell_type": "markdown",
   "metadata": {},
   "source": [
    "For example: if you take your files and convert them to an HTML table, you can output that table inline. For that to work, you really want to use `ConvertTo-Html -Fragment` to get just the table as output, and then pipe it to `Write-Jupyter` as a single string. Normally, `ConvertTo-Html` outputs one `<tr>` at a time, so we need to use `Out-String` or `-join` to convert it into a single string that we can pipe to `Write-Jupyter`.\n",
    "\n",
    "of course, we really want the `-Fragment` part to happen automatically. I'll have to add some `profile` support at some point to make that happen, but in the meantime, you can put something like this in a cell near the top, and make it work from then on:"
   ]
  },
  {
   "cell_type": "code",
   "execution_count": 19,
   "metadata": {},
   "outputs": [],
   "source": [
    "$PSDefaultParameterValues[\"ConvertTo-Html:Fragment\"] = $true"
   ]
  },
  {
   "cell_type": "markdown",
   "metadata": {},
   "source": [
    "Incidentally, there's one other problem that I just noticed. Currently, `Write-Jupyter` outputs each item as it comes in, and wraps them in a tag, so to get a table to output properly, you need one output string. ConvertTo-Html outputs one `<tr>` at a time, so we need to use `Out-String` or `-join` them all together:"
   ]
  },
  {
   "cell_type": "code",
   "execution_count": 21,
   "metadata": {},
   "outputs": [
    {
     "data": {
      "text/html": [
       "<table>\n",
       "<colgroup><col/><col/><col/><col/></colgroup>\n",
       "<tr><th>Mode</th><th>LastWriteTime</th><th>Name</th><th>Length</th></tr>\n",
       "<tr><td>--r---</td><td>4/20/18 4:19:33 AM</td><td>build.ps1</td><td>2974</td></tr>\n",
       "<tr><td>--r---</td><td>4/20/18 6:34:12 AM</td><td>Dockerfile</td><td>1546</td></tr>\n",
       "<tr><td>--r---</td><td>2/20/18 6:44:41 AM</td><td>jupyter-powershell.nuspec</td><td>4682</td></tr>\n",
       "<tr><td>--r---</td><td>6/24/17 7:07:27 AM</td><td>LICENSE.md</td><td>1140</td></tr>\n",
       "<tr><td>--r---</td><td>4/21/18 10:46:19 PM</td><td>LiterateDevOps.ipynb</td><td>33800</td></tr>\n",
       "<tr><td>--r---</td><td>4/6/18 3:20:07 AM</td><td>LiterateDevOps.md</td><td>4354</td></tr>\n",
       "<tr><td>--r---</td><td>4/6/18 3:09:39 AM</td><td>nteract - plotly.ipynb</td><td>12423</td></tr>\n",
       "<tr><td>--r---</td><td>4/6/18 3:20:07 AM</td><td>ReadMe.ipynb</td><td>170560</td></tr>\n",
       "<tr><td>--r---</td><td>3/4/18 2:39:59 AM</td><td>ReadMe.md</td><td>2302</td></tr>\n",
       "<tr><td>--r---</td><td>8/4/17 3:19:47 AM</td><td>Release.ipynb</td><td>8712</td></tr>\n",
       "</table>\n"
      ]
     },
     "metadata": {},
     "output_type": "display_data"
    }
   ],
   "source": [
    "$Files | ConvertTo-Html Mode, LastWriteTime, Name, Length | Out-String | Write-Jupyter -MimeType html"
   ]
  },
  {
   "cell_type": "markdown",
   "metadata": {},
   "source": [
    "Now if you want to get clever, you can dump a little javascript in, to make the table sortable. run this line, and then use your mouse on the headers of the table:"
   ]
  },
  {
   "cell_type": "code",
   "execution_count": 22,
   "metadata": {},
   "outputs": [
    {
     "data": {
      "text/html": [
       "<script src=\"https://cdn.rawgit.com/stevesouders/5952488/raw/activetable.js\"></script>"
      ]
     },
     "metadata": {},
     "output_type": "display_data"
    }
   ],
   "source": [
    "'<script src=\"https://cdn.rawgit.com/stevesouders/5952488/raw/activetable.js\"></script>' | Write-Jupyter -MimeType html"
   ]
  },
  {
   "cell_type": "markdown",
   "metadata": {},
   "source": [
    "Of course, a better trick would be to make that happen automatically. \n",
    "\n",
    "I'll see what I can do about that in the future, because this is starting to feel like a lot of modifications for `ConvertTo-Html` -- I'd love some feedback on this. In the meantime, you can add that script to the defaults for `ConvertTo-Html` like what we did with fragment:"
   ]
  },
  {
   "cell_type": "code",
   "execution_count": 24,
   "metadata": {},
   "outputs": [],
   "source": [
    "$PSDefaultParameterValues[\"ConvertTo-Html:Fragment\"] = $true\n",
    "$PSDefaultParameterValues[\"ConvertTo-Html:PostContent\"] = '<script src=\"https://cdn.rawgit.com/stevesouders/5952488/raw/activetable.js\"></script>'"
   ]
  },
  {
   "cell_type": "markdown",
   "metadata": {},
   "source": [
    "Now you can get a sortable table instantly, by just running ConvertTo-Html.\n",
    "\n",
    "When I tried this as an example, I remembered another reason why we're going to want a better ConvertTo-Html. It doesn't know anything about which columns should be visible, and it doesn't handle properties that are collections:"
   ]
  },
  {
   "cell_type": "code",
   "execution_count": 29,
   "metadata": {},
   "outputs": [
    {
     "data": {
      "text/html": [
       "<table>\n",
       "<colgroup><col/><col/><col/><col/><col/><col/><col/><col/><col/><col/><col/><col/><col/><col/><col/><col/><col/><col/><col/><col/><col/><col/><col/><col/><col/><col/><col/><col/><col/><col/><col/><col/><col/><col/><col/><col/><col/><col/><col/><col/><col/><col/><col/><col/><col/><col/><col/><col/></colgroup>\n",
       "<tr><th>LogPipelineExecutionDetails</th><th>Name</th><th>Path</th><th>ImplementingAssembly</th><th>Definition</th><th>Description</th><th>Guid</th><th>HelpInfoUri</th><th>ModuleBase</th><th>PrivateData</th><th>Tags</th><th>ProjectUri</th><th>IconUri</th><th>LicenseUri</th><th>ReleaseNotes</th><th>RepositorySourceLocation</th><th>Version</th><th>ModuleType</th><th>Author</th><th>AccessMode</th><th>ClrVersion</th><th>CompanyName</th><th>Copyright</th><th>DotNetFrameworkVersion</th><th>ExportedFunctions</th><th>Prefix</th><th>ExportedCmdlets</th><th>ExportedCommands</th><th>FileList</th><th>CompatiblePSEditions</th><th>ModuleList</th><th>NestedModules</th><th>PowerShellHostName</th><th>PowerShellHostVersion</th><th>PowerShellVersion</th><th>ProcessorArchitecture</th><th>Scripts</th><th>RequiredAssemblies</th><th>RequiredModules</th><th>RootModule</th><th>ExportedVariables</th><th>ExportedAliases</th><th>ExportedWorkflows</th><th>ExportedDscResources</th><th>SessionState</th><th>OnRemove</th><th>ExportedFormatFiles</th><th>ExportedTypeFiles</th></tr>\n",
       "<tr><td>False</td><td>Microsoft.PowerShell.Management</td><td>/usr/src/jupyter-powershell/Modules/Microsoft.PowerShell.Management/Microsoft.PowerShell.Management.psd1</td><td></td><td></td><td></td><td>eefcb906-b326-4e99-9f54-8b4bb6ef3c6d</td><td>https://go.microsoft.com/fwlink/?linkid=855958</td><td>/usr/src/jupyter-powershell</td><td></td><td>System.Collections.Generic.List`1[System.String]</td><td></td><td></td><td></td><td></td><td></td><td>3.1.0.0</td><td>Manifest</td><td>PowerShell</td><td>ReadWrite</td><td></td><td>Microsoft Corporation</td><td>Copyright (c) Microsoft Corporation. All rights reserved.</td><td></td><td>System.Collections.Generic.Dictionary`2[System.String,System.Management.Automation.FunctionInfo]</td><td></td><td>System.Collections.Generic.Dictionary`2[System.String,System.Management.Automation.CmdletInfo]</td><td>System.Collections.Generic.Dictionary`2[System.String,System.Management.Automation.CommandInfo]</td><td>System.Collections.Generic.List`1[System.String]</td><td>System.Collections.Generic.List`1[System.String]</td><td>System.Collections.ObjectModel.Collection`1[System.Object]</td><td>System.Collections.ObjectModel.ReadOnlyCollection`1[System.Management.Automation.PSModuleInfo]</td><td></td><td></td><td>3.0</td><td>None</td><td>System.Collections.Generic.List`1[System.String]</td><td>System.Collections.ObjectModel.Collection`1[System.String]</td><td>System.Collections.ObjectModel.ReadOnlyCollection`1[System.Management.Automation.PSModuleInfo]</td><td></td><td>System.Collections.Generic.Dictionary`2[System.String,System.Management.Automation.PSVariable]</td><td>System.Collections.Generic.Dictionary`2[System.String,System.Management.Automation.AliasInfo]</td><td>System.Collections.Generic.Dictionary`2[System.String,System.Management.Automation.FunctionInfo]</td><td>System.Collections.ObjectModel.ReadOnlyCollection`1[System.String]</td><td>System.Management.Automation.SessionState</td><td></td><td>System.Collections.ObjectModel.ReadOnlyCollection`1[System.String]</td><td>System.Collections.ObjectModel.ReadOnlyCollection`1[System.String]</td></tr>\n",
       "<tr><td>False</td><td>Microsoft.PowerShell.Utility</td><td>/usr/src/jupyter-powershell/Modules/Microsoft.PowerShell.Utility/Microsoft.PowerShell.Utility.psd1</td><td></td><td></td><td></td><td>1da87e53-152b-403e-98dc-74d7b4d63d59</td><td>https://go.microsoft.com/fwlink/?linkid=855960</td><td>/usr/src/jupyter-powershell</td><td></td><td>System.Collections.Generic.List`1[System.String]</td><td></td><td></td><td></td><td></td><td></td><td>3.1.0.0</td><td>Manifest</td><td>PowerShell</td><td>ReadWrite</td><td></td><td>Microsoft Corporation</td><td>Copyright (c) Microsoft Corporation. All rights reserved.</td><td></td><td>System.Collections.Generic.Dictionary`2[System.String,System.Management.Automation.FunctionInfo]</td><td></td><td>System.Collections.Generic.Dictionary`2[System.String,System.Management.Automation.CmdletInfo]</td><td>System.Collections.Generic.Dictionary`2[System.String,System.Management.Automation.CommandInfo]</td><td>System.Collections.Generic.List`1[System.String]</td><td>System.Collections.Generic.List`1[System.String]</td><td>System.Collections.ObjectModel.Collection`1[System.Object]</td><td>System.Collections.ObjectModel.ReadOnlyCollection`1[System.Management.Automation.PSModuleInfo]</td><td></td><td></td><td>3.0</td><td>None</td><td>System.Collections.Generic.List`1[System.String]</td><td>System.Collections.ObjectModel.Collection`1[System.String]</td><td>System.Collections.ObjectModel.ReadOnlyCollection`1[System.Management.Automation.PSModuleInfo]</td><td></td><td>System.Collections.Generic.Dictionary`2[System.String,System.Management.Automation.PSVariable]</td><td>System.Collections.Generic.Dictionary`2[System.String,System.Management.Automation.AliasInfo]</td><td>System.Collections.Generic.Dictionary`2[System.String,System.Management.Automation.FunctionInfo]</td><td>System.Collections.ObjectModel.ReadOnlyCollection`1[System.String]</td><td>System.Management.Automation.SessionState</td><td></td><td>System.Collections.ObjectModel.ReadOnlyCollection`1[System.String]</td><td>System.Collections.ObjectModel.ReadOnlyCollection`1[System.String]</td></tr>\n",
       "</table>\n",
       "<script src=\"https://cdn.rawgit.com/stevesouders/5952488/raw/activetable.js\"></script>\n"
      ]
     },
     "metadata": {},
     "output_type": "display_data"
    }
   ],
   "source": [
    "Get-Module | ConvertTo-Html | Out-String | Write-Jupyter -MimeType html"
   ]
  },
  {
   "cell_type": "code",
   "execution_count": 30,
   "metadata": {},
   "outputs": [
    {
     "data": {
      "image/png": "[encoded data removed]"
     },
     "metadata": {
      "image/png": {
       "width": 32
      }
     },
     "output_type": "display_data"
    },
    {
     "data": {
      "image/png": "[encoded data removed]"
     },
     "metadata": {
      "image/png": {
       "width": 64
      }
     },
     "output_type": "display_data"
    }
   ],
   "source": [
    "$imageUrl = 'https://upload.wikimedia.org/wikipedia/commons/2/2f/PowerShell_5.0_icon.png'\n",
    "$ImageData = @{ \"png\" = (Invoke-WebRequest $imageUrl -UseBasicParsing).RawContentStream.GetBuffer() }\n",
    "# $ImageData\n",
    "\n",
    "Write-Jupyter -InputObject $ImageData -Metadata @{ \"image/png\" = @{ 'width' = 32 } }\n",
    "Write-Jupyter -InputObject $ImageData -Metadata @{ \"image/png\" = @{ 'width' = 64 } }"
   ]
  }
 ],
 "metadata": {
  "kernelspec": {
   "display_name": "PowerShell",
   "language": "PowerShell",
   "name": "powershell"
  },
  "language_info": {
   "codemirror_mode": "powershell",
   "file_extension": ".ps1",
   "mimetype": "text/powershell",
   "name": "PowerShell",
   "nbconvert_exporter": null,
   "pygments_lexer": "powershell",
   "version": "5.0"
  }
 },
 "nbformat": 4,
 "nbformat_minor": 2
}
